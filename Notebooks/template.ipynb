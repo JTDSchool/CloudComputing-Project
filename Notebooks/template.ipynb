{
 "cells": [
  {
   "cell_type": "markdown",
   "metadata": {
    "id": "pWZdFlA93IqU"
   },
   "source": [
    "# Template Notebook"
   ]
  },
  {
   "cell_type": "markdown",
   "metadata": {
    "id": "Ib4t2XCG2dSL"
   },
   "source": [
    "**Important:** These technologies require versy specific software versions, so some libraries need to be uninstalled, reinstalled, then the runtime has to be recreated. Here are the instructions to do that, which you will want to do as soon as you start up the notebook: \n",
    "\n",
    "Run the first and second cells, then click Runtime > Restart Runtime. After that, click on the third cell  and then click Runtime > Run after. "
   ]
  },
  {
   "cell_type": "code",
   "execution_count": null,
   "metadata": {
    "colab": {
     "base_uri": "https://localhost:8080/",
     "height": 557
    },
    "id": "50IQxav6fmL7",
    "outputId": "53452ecf-116a-440c-8fec-63dd18d07596"
   },
   "outputs": [],
   "source": [
    "!pip uninstall numpy\n",
    "!pip install numpy==1.19.5"
   ]
  },
  {
   "cell_type": "code",
   "execution_count": null,
   "metadata": {
    "colab": {
     "base_uri": "https://localhost:8080/",
     "height": 1000
    },
    "id": "OTKPDAw-1UDR",
    "outputId": "824a03c7-b806-46ab-c9d0-a49f87b7f789"
   },
   "outputs": [],
   "source": [
    "!pip uninstall tensorflow\n",
    "!pip install tensorflow==1.14.0\n",
    "# !pip install shap==0.31\n",
    "!pip install shap==0.34\n",
    "!pip install 'keras==2.2.3' --force-reinstall"
   ]
  },
  {
   "cell_type": "code",
   "execution_count": null,
   "metadata": {
    "colab": {
     "base_uri": "https://localhost:8080/"
    },
    "id": "q1QXCu4zvduR",
    "outputId": "8a1c4885-9ebf-4798-9a31-daeb5df451db"
   },
   "outputs": [],
   "source": [
    "import keras\n",
    "import numpy as np\n",
    "import pandas as pd\n",
    "from sklearn.model_selection import train_test_split\n",
    "from keras import layers\n",
    "import tensorflow as tf\n",
    "import shap\n",
    "from tensorflow.keras.models import Sequential\n",
    "from tensorflow.keras.layers import Dense\n",
    "from tensorflow.keras.layers import LSTM\n",
    "from tensorflow.keras.layers import Embedding\n",
    "from tensorflow.keras.layers import Dropout"
   ]
  }
 ],
 "metadata": {
  "colab": {
   "collapsed_sections": [],
   "name": "Creating Input for SHAP.ipynb",
   "provenance": []
  },
  "kernelspec": {
   "display_name": "Python 3 (ipykernel)",
   "language": "python",
   "name": "python3"
  },
  "language_info": {
   "codemirror_mode": {
    "name": "ipython",
    "version": 3
   },
   "file_extension": ".py",
   "mimetype": "text/x-python",
   "name": "python",
   "nbconvert_exporter": "python",
   "pygments_lexer": "ipython3",
   "version": "3.10.9"
  }
 },
 "nbformat": 4,
 "nbformat_minor": 4
}
